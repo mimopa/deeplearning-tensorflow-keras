{
 "cells": [
  {
   "cell_type": "code",
   "execution_count": 34,
   "metadata": {
    "collapsed": false
   },
   "outputs": [
    {
     "name": "stdout",
     "output_type": "stream",
     "text": [
      "w: [ 2.14037745  1.2763927 ]\n",
      "b: -9\n",
      "\n",
      "Test:\n",
      "0\n",
      "1\n",
      "[[-2.32365926  2.1346957 ]\n",
      " [ 0.6056808  -3.22403923]\n",
      " [-1.23842293  3.53469752]\n",
      " [-5.19400952 -0.91803492]\n",
      " [ 2.70958142 -1.85515161]\n",
      " [-1.45307261 -0.20271294]\n",
      " [ 3.19213672 -1.36749142]\n",
      " [-0.95028897 -0.92967567]\n",
      " [ 4.721523    4.68054763]\n",
      " [ 2.14905432  0.82658466]]\n",
      "-9\n"
     ]
    },
    {
     "data": {
      "text/plain": [
       "[<matplotlib.lines.Line2D at 0x1aafc8b9cc0>,\n",
       " <matplotlib.lines.Line2D at 0x1aafc8b9d68>]"
      ]
     },
     "execution_count": 34,
     "metadata": {},
     "output_type": "execute_result"
    },
    {
     "data": {
      "image/png": "[encoded data removed]",
      "text/plain": [
       "<matplotlib.figure.Figure at 0x1aafb37ff60>"
      ]
     },
     "metadata": {},
     "output_type": "display_data"
    }
   ],
   "source": [
    "import numpy as np\n",
    "\n",
    "'''\n",
    "データの生成\n",
    "'''\n",
    "rng = np.random.RandomState(123)\n",
    "\n",
    "d = 2\n",
    "N = 10\n",
    "\n",
    "mean = 5\n",
    "\n",
    "x1 = rng.randn(N, d) + np.array([0, 0])\n",
    "x2 = rng.randn(N, d) + np.array([mean, mean])\n",
    "\n",
    "x = np.concatenate((x1, x2), axis=0)\n",
    "\n",
    "# matplotlibで描画\n",
    "%matplotlib inline\n",
    "import matplotlib.pyplot as plt\n",
    "\n",
    "x1_x, x1_y, x2_x, x2_y = [], [], [], []\n",
    "\n",
    "for i in range(N):\n",
    "  x1_x.append(x1[i][0])\n",
    "  x1_y.append(x1[i][1])\n",
    "  x2_x.append(x2[i][0])\n",
    "  x2_y.append(x2[i][1])\n",
    "\n",
    "plt.plot(x1_x, x1_y,\"o\")\n",
    "plt.plot(x2_x, x2_y,\"x\")\n",
    "\n",
    "plt.xlim([-4,8])\n",
    "plt.ylim([-6,12])\n",
    "\n",
    "'''\n",
    "単純パーセプトロン\n",
    "'''\n",
    "w = np.zeros(d)\n",
    "b = 0\n",
    "\n",
    "\n",
    "def y(x):\n",
    "    return step(np.dot(w, x) + b)\n",
    "\n",
    "\n",
    "def step(x):\n",
    "    return 1 * (x > 0)\n",
    "\n",
    "\n",
    "def t(i):\n",
    "    if i < N:\n",
    "        return 0\n",
    "    else:\n",
    "        return 1\n",
    "\n",
    "\n",
    "while True:\n",
    "    classified = True\n",
    "    for i in range(N * 2):\n",
    "        delta_w = (t(i) - y(x[i])) * x[i]\n",
    "        delta_b = (t(i) - y(x[i]))\n",
    "        w += delta_w\n",
    "        b += delta_b\n",
    "        classified *= all(delta_w == 0) * (delta_b == 0)\n",
    "    if classified:\n",
    "        break\n",
    "\n",
    "print('w:', w)\n",
    "print('b:', b)\n",
    "\n",
    "print('\\nTest:')\n",
    "print(y([0, 0]))  # => 0\n",
    "print(y([5, 5]))  # => 1\n",
    "\n",
    "print(w[0]*x1)\n",
    "print(b)\n",
    "\n",
    "Y = w[0]*x1 + w[1]*x2 + b\n",
    "x_fig=range(-4,8)\n",
    "y_fig=[-(w*xi) for xi in x_fig]\n",
    "plt.plot(x_fig,y_fig, color='k', linestyle='-', linewidth=1)"
   ]
  }
 ],
 "metadata": {
  "kernelspec": {
   "display_name": "Python 3",
   "language": "python",
   "name": "python3"
  },
  "language_info": {
   "codemirror_mode": {
    "name": "ipython",
    "version": 3
   },
   "file_extension": ".py",
   "mimetype": "text/x-python",
   "name": "python",
   "nbconvert_exporter": "python",
   "pygments_lexer": "ipython3",
   "version": "3.6.0"
  }
 },
 "nbformat": 4,
 "nbformat_minor": 2
}
